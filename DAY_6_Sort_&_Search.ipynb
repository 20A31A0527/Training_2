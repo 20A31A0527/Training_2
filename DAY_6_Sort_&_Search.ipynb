{
  "nbformat": 4,
  "nbformat_minor": 0,
  "metadata": {
    "colab": {
      "provenance": [],
      "authorship_tag": "ABX9TyN6H+KxiFGAaOgfjBCW8JbA",
      "include_colab_link": true
    },
    "kernelspec": {
      "name": "python3",
      "display_name": "Python 3"
    },
    "language_info": {
      "name": "python"
    }
  },
  "cells": [
    {
      "cell_type": "markdown",
      "metadata": {
        "id": "view-in-github",
        "colab_type": "text"
      },
      "source": [
        "<a href=\"https://colab.research.google.com/github/20A31A0527/Training_2/blob/main/DAY_6_Sort_%26_Search.ipynb\" target=\"_parent\"><img src=\"https://colab.research.google.com/assets/colab-badge.svg\" alt=\"Open In Colab\"/></a>"
      ]
    },
    {
      "cell_type": "markdown",
      "source": [
        "**IMPLEMENTATION OF BFS AND DFS**\n",
        "\n",
        "   \n",
        "    * In BFS,we use queue concept and in DFS we use stack concept."
      ],
      "metadata": {
        "id": "G0n6GUC_pOWJ"
      }
    },
    {
      "cell_type": "markdown",
      "source": [
        "--->**IMPLEMENTATION OF BFS**"
      ],
      "metadata": {
        "id": "O-mCp_bJpc1t"
      }
    },
    {
      "cell_type": "code",
      "source": [
        "#IMPLEMENTATION OF BFS\n",
        "graph={\n",
        "    '5':['3','7'],\n",
        "    '3':['2','4'],\n",
        "    '7':['8'],\n",
        "    '2':[],\n",
        "    '4':['8'],\n",
        "    '8':[]\n",
        "}\n",
        "visited=[]\n",
        "queue=[]\n",
        "def bfs(visited,graph,node):\n",
        "  visited.append(node)\n",
        "  queue.append(node)\n",
        "  while queue:\n",
        "    m=queue.pop(0)\n",
        "    print(m,end=\" \")\n",
        "    for neighbour in graph[m]:\n",
        "      if neighbour not in visited:\n",
        "        visited.append(neighbour)\n",
        "        queue.append(neighbour)\n",
        "bfs(visited,graph,'5')"
      ],
      "metadata": {
        "colab": {
          "base_uri": "https://localhost:8080/"
        },
        "id": "lmL7Fp8opY4b",
        "outputId": "7dd8034b-e421-43d9-a358-e3cfdbea3971"
      },
      "execution_count": 1,
      "outputs": [
        {
          "output_type": "stream",
          "name": "stdout",
          "text": [
            "5 3 7 2 4 8 "
          ]
        }
      ]
    },
    {
      "cell_type": "markdown",
      "source": [
        "--->**IMPLEMENTATION OF DFS**\n",
        "\n",
        "    1. We use stack concept\n",
        "    2. Push any one vertex first into stack\n",
        "    3. Push any one of the adjacent vertex which is prsent in the stack\n",
        "       Repeat this process till you see a vertex which is not having any adjacent vertices\n",
        "    4. At this point of time,do backtracking\n",
        "       - Backtracking means,pop up the top most element\n",
        "    5. Repeat backtracking process till stack becomes empty"
      ],
      "metadata": {
        "id": "dYvtdcPtpsB8"
      }
    },
    {
      "cell_type": "code",
      "source": [
        "#IMPLEMENTATION OF DFS\n",
        "graph={\n",
        "    '5':['3','7'],\n",
        "    '3':['2','4'],\n",
        "    '7':['8'],\n",
        "    '2':[],\n",
        "    '4':['8'],\n",
        "    '8':[]\n",
        "}\n",
        "visited=set()\n",
        "def dfs(visited,graph,node):\n",
        "  if node not in visited:\n",
        "    print(node)\n",
        "    visited.add(node)\n",
        "    for neighbour in graph[node]:\n",
        "      dfs(visited,graph,neighbour)\n",
        "dfs(visited,graph,'5')"
      ],
      "metadata": {
        "colab": {
          "base_uri": "https://localhost:8080/"
        },
        "id": "qVV42t0qpyPk",
        "outputId": "a0f4e906-c264-49e3-b174-c81f4d036715"
      },
      "execution_count": 2,
      "outputs": [
        {
          "output_type": "stream",
          "name": "stdout",
          "text": [
            "5\n",
            "3\n",
            "2\n",
            "4\n",
            "8\n",
            "7\n"
          ]
        }
      ]
    },
    {
      "cell_type": "markdown",
      "source": [
        "**SORTING**\n",
        "\n",
        "Types of sorting techniques:\n",
        "\n",
        "  1. Bubble sort\n",
        "  2. Insertion sort\n",
        "  3. Selection sort\n",
        "  4. Merge sort\n",
        "  5. Quick sort\n",
        "\n",
        "Divide and Conquer:\n",
        "\n",
        "Merge sort and quick sort uses this technique.\n",
        "\n"
      ],
      "metadata": {
        "id": "7eKp-lVOp3pW"
      }
    },
    {
      "cell_type": "markdown",
      "source": [
        "---->**BUBBLE SORT**"
      ],
      "metadata": {
        "id": "1oDrjsT3qMEU"
      }
    },
    {
      "cell_type": "code",
      "source": [
        "#BUBBLE SORT IMPLEMENTATION\n",
        "def bubblesort(list):\n",
        "  for i in range(len(list)-1,0,-1):   #len(list)=7\n",
        "    print(\"i value:\")\n",
        "    print(i)\n",
        "    for j in range(i):  \n",
        "      print(\"j value:\")\n",
        "      print(j)\n",
        "      if list[j]>list[j+1]:\n",
        "        temp=list[j]\n",
        "        list[j]=list[j+1]\n",
        "        list[j+1]=temp\n",
        "list=[10,5,-3,-2,0,100,10]\n",
        "bubblesort(list)\n",
        "print(list)"
      ],
      "metadata": {
        "colab": {
          "base_uri": "https://localhost:8080/"
        },
        "id": "IQwtD45xqTdX",
        "outputId": "154e1231-6d9d-4752-d3f6-5c80e7e0660f"
      },
      "execution_count": 3,
      "outputs": [
        {
          "output_type": "stream",
          "name": "stdout",
          "text": [
            "i value:\n",
            "6\n",
            "j value:\n",
            "0\n",
            "j value:\n",
            "1\n",
            "j value:\n",
            "2\n",
            "j value:\n",
            "3\n",
            "j value:\n",
            "4\n",
            "j value:\n",
            "5\n",
            "i value:\n",
            "5\n",
            "j value:\n",
            "0\n",
            "j value:\n",
            "1\n",
            "j value:\n",
            "2\n",
            "j value:\n",
            "3\n",
            "j value:\n",
            "4\n",
            "i value:\n",
            "4\n",
            "j value:\n",
            "0\n",
            "j value:\n",
            "1\n",
            "j value:\n",
            "2\n",
            "j value:\n",
            "3\n",
            "i value:\n",
            "3\n",
            "j value:\n",
            "0\n",
            "j value:\n",
            "1\n",
            "j value:\n",
            "2\n",
            "i value:\n",
            "2\n",
            "j value:\n",
            "0\n",
            "j value:\n",
            "1\n",
            "i value:\n",
            "1\n",
            "j value:\n",
            "0\n",
            "[-3, -2, 0, 5, 10, 10, 100]\n"
          ]
        }
      ]
    },
    {
      "cell_type": "markdown",
      "source": [
        "--->**INSERTION SORT**\n",
        "\n",
        "    * First and second elements to be compared\n",
        "    * Then 3rd compared with left side elements\n",
        "    * Bigger number be moved to right side\n",
        "    * Fourth will be compared with all previouos left elements"
      ],
      "metadata": {
        "id": "WVUVKl5NqdvQ"
      }
    },
    {
      "cell_type": "code",
      "source": [
        "#INSERTION SORT IMPLEMENTATION\n",
        "def insertionsort(arr):\n",
        "  for i in range(1,len(arr)):\n",
        "    key=arr[i]\n",
        "    j=i-1\n",
        "    while j>=0 and key<arr[j]:\n",
        "      arr[j+1]=arr[j]\n",
        "      j-=1\n",
        "    arr[j+1]=key\n",
        "arr=[12,11,13,5,6]\n",
        "insertionsort(arr)\n",
        "print(\"Sorted array is:\")\n",
        "for i in range(len(arr)):\n",
        "  print(\"%d\" %arr[i])"
      ],
      "metadata": {
        "colab": {
          "base_uri": "https://localhost:8080/"
        },
        "id": "hRqLA84zqoMN",
        "outputId": "90ecec9f-0724-44c2-b23e-a8860b2e8b8f"
      },
      "execution_count": 4,
      "outputs": [
        {
          "output_type": "stream",
          "name": "stdout",
          "text": [
            "Sorted array is:\n",
            "5\n",
            "6\n",
            "11\n",
            "12\n",
            "13\n"
          ]
        }
      ]
    },
    {
      "cell_type": "markdown",
      "source": [
        "--->**SELECTION SORT**\n",
        "\n",
        "  * Select lowest value ,place it at index=0\n",
        "  * Select 2nd lower value,place it at index 1"
      ],
      "metadata": {
        "id": "cZOQVKMqqxP3"
      }
    },
    {
      "cell_type": "code",
      "source": [
        "#SELECTION SORT IMPLEMENTATION\n",
        "b=[]\n",
        "def ss(a):\n",
        "  k=0\n",
        "  for i in range(0,len(a)):\n",
        "    k=min(a)\n",
        "    b.append(k)\n",
        "    a.remove(k)\n",
        "a=[3,10,5,90,6]\n",
        "ss(a)\n",
        "print(b)"
      ],
      "metadata": {
        "colab": {
          "base_uri": "https://localhost:8080/"
        },
        "id": "LAIOZaz4qzR-",
        "outputId": "4d37ea50-ee9c-46c9-e131-9a71d253b66e"
      },
      "execution_count": 5,
      "outputs": [
        {
          "output_type": "stream",
          "name": "stdout",
          "text": [
            "[3, 5, 6, 10, 90]\n"
          ]
        }
      ]
    },
    {
      "cell_type": "code",
      "source": [
        "#SELECTION SORT ----- ANOTHER METHOD\n",
        "def selection_sort(alist):\n",
        "  for i in range(0,len(alist)-1):\n",
        "    smallest=i\n",
        "    for j in range(i+1,len(alist)):\n",
        "      if alist[j]<alist[smallest]:\n",
        "        smallest=j\n",
        "      alist[i],alist[smallest]=alist[smallest],alist[i]\n",
        "alist=input(\"Enter the list of numbers:\").split()\n",
        "alist=[int(x) for x in alist]\n",
        "selection_sort(alist)\n",
        "print(\"Sorted list:\",end='')\n",
        "print(alist)"
      ],
      "metadata": {
        "colab": {
          "base_uri": "https://localhost:8080/"
        },
        "id": "1ZAp0fsRq4YR",
        "outputId": "ed8517e3-8c41-41ea-aa44-1f244a69c0c6"
      },
      "execution_count": 6,
      "outputs": [
        {
          "output_type": "stream",
          "name": "stdout",
          "text": [
            "Enter the list of numbers:11 45 2 71 1\n",
            "Sorted list:[1, 2, 11, 45, 71]\n"
          ]
        }
      ]
    },
    {
      "cell_type": "markdown",
      "source": [
        "--->**MERGE SORT**"
      ],
      "metadata": {
        "id": "Y-QnX9VZrCti"
      }
    },
    {
      "cell_type": "code",
      "source": [
        "#MERGE SORT IMPLEMENTATION\n",
        "def merge_sort(unsorted_list):\n",
        "  if len(unsorted_list)<=1:\n",
        "    return unsorted_list\n",
        "  middle=len(unsorted_list)//2\n",
        "  left_list=unsorted_list[:middle]\n",
        "  right_list=unsorted_list[middle:]\n",
        "  left_list=merge_sort(left_list)\n",
        "  right_list=merge_sort(right_list)\n",
        "  return (merge(left_list,right_list))\n",
        "def merge(left_half,right_half):\n",
        "  res=[]\n",
        "  while len(left_half)!=0 and len(right_half)!=0:\n",
        "    if(left_half[0]<right_half[0]):\n",
        "      res.append(left_half[0])\n",
        "      left_half.remove(left_half[0])\n",
        "    else:\n",
        "      res.append(right_half[0])\n",
        "      right_half.remove(right_half[0])\n",
        "  if len(left_half)==0:\n",
        "    res=res+right_half\n",
        "  else:\n",
        "    res=res+left_half\n",
        "  return res\n",
        "unsorted_list=[64,34,25,12,22,11,90]\n",
        "print(merge_sort(unsorted_list))\n",
        "unsorted_list=[10,-6,34,2,100]\n",
        "print(merge_sort(unsorted_list))"
      ],
      "metadata": {
        "colab": {
          "base_uri": "https://localhost:8080/"
        },
        "id": "ZqKPmQ2NrH0T",
        "outputId": "6c059ea9-32b7-4377-ff0a-0dc079ae2bcc"
      },
      "execution_count": 13,
      "outputs": [
        {
          "output_type": "stream",
          "name": "stdout",
          "text": [
            "[11, 12, 22, 25, 34, 64, 90]\n",
            "[-6, 2, 10, 34, 100]\n"
          ]
        }
      ]
    },
    {
      "cell_type": "markdown",
      "source": [
        "--->**QUICKSORT**"
      ],
      "metadata": {
        "id": "usZSPJ1Lu4Hy"
      }
    },
    {
      "cell_type": "code",
      "source": [
        "#QUICK SORT IMPLEMENTATION\n",
        "def partition(arr,low,high):\n",
        "    i=(low-1)\n",
        "    pivot=arr[high]\n",
        "    for j in range(low,high):\n",
        "        if arr[j]<=pivot:\n",
        "            i=i+1\n",
        "            arr[i],arr[j]=arr[j],arr[i]\n",
        "    arr[i+1],arr[high]=arr[high],arr[i+1]\n",
        "    return (i+1)\n",
        "def quicksort(arr,low,high):\n",
        "    if low<high:\n",
        "        pi=partition(arr,low,high)\n",
        "        quicksort(arr,low,pi-1)\n",
        "        quicksort(arr,pi+1,high)\n",
        "arr=[2,5,3,8,6,5,4,7]\n",
        "n=len(arr)\n",
        "quicksort(arr,0,n-1)\n",
        "print(\"Sorted array:\")\n",
        "for i in range(n):\n",
        "    print(arr[i],end=\" \")"
      ],
      "metadata": {
        "colab": {
          "base_uri": "https://localhost:8080/"
        },
        "id": "XsEcIIr-u8D2",
        "outputId": "2c136c0b-5714-497f-e9f3-e8fbc7de0b52"
      },
      "execution_count": 14,
      "outputs": [
        {
          "output_type": "stream",
          "name": "stdout",
          "text": [
            "Sorted array:\n",
            "2 3 4 5 5 6 7 8 "
          ]
        }
      ]
    },
    {
      "cell_type": "markdown",
      "source": [
        "**SEARCH TECHNIQUES**\n",
        "\n",
        "Types of searches:\n",
        "\n",
        "      1. Linear Search\n",
        "      2. Binary Search\n",
        "      3. Jump Search\n",
        "      4. Exponential Search"
      ],
      "metadata": {
        "id": "qsiPOK9JvGFx"
      }
    },
    {
      "cell_type": "markdown",
      "source": [
        "-->**LINEAR SEARCH**\n",
        "\n",
        "          * Linear search is most common one and basic one also.\n",
        "          * Element to be searched will be compared with every individualelement from the array.\n",
        "          * The globals() method returns a dictionary with all the global variables and symbols for the current program."
      ],
      "metadata": {
        "id": "3-ZNdYIhvL92"
      }
    },
    {
      "cell_type": "code",
      "source": [
        "#LINEAR SEARCH IMPLEMENTATION\n",
        "pos=-1\n",
        "def search(list,n):\n",
        "    i=0\n",
        "    while i<len(list):\n",
        "        if list[i]==n:\n",
        "            globals()[\"pos\"]=i\n",
        "            return True\n",
        "        i=i+1\n",
        "    return False\n",
        "list=[100,40,20,10]\n",
        "n=20\n",
        "if search(list,n):\n",
        "    print(\"Found it at position:\",pos+1)\n",
        "else:\n",
        "    print(\"Element not found\")"
      ],
      "metadata": {
        "colab": {
          "base_uri": "https://localhost:8080/"
        },
        "id": "G-XfCHIKvWQB",
        "outputId": "c78d8c04-9005-4e0d-860c-2b71b5eb56f3"
      },
      "execution_count": 15,
      "outputs": [
        {
          "output_type": "stream",
          "name": "stdout",
          "text": [
            "Found it at position: 3\n"
          ]
        }
      ]
    },
    {
      "cell_type": "markdown",
      "source": [
        "--->**BINARY SEARCH**\n",
        "\n",
        "       * Sort the array or Give sorted array as key=50(for below program).\n",
        "       * Compare the key value with mid value\n",
        "              if key<mid:\n",
        "                  key is present at left side\n",
        "              if key>mid:\n",
        "                  key is present at right side"
      ],
      "metadata": {
        "id": "MnQQLMLIvf7K"
      }
    },
    {
      "cell_type": "code",
      "source": [
        "#BINARY SEARCH\n",
        "pos=-1\n",
        "def search(list,n):\n",
        "    l=0\n",
        "    u=len(list)-1\n",
        "    while l<=u:\n",
        "        mid=(l+u)//2\n",
        "        if (list[mid])==n:\n",
        "            globals()['pos']=mid\n",
        "            return True\n",
        "        else:\n",
        "            if list[mid]<n:\n",
        "                l=mid+1\n",
        "            else:\n",
        "                u=mid-1\n",
        "    return False\n",
        "list=[5,10,15,100]\n",
        "n=1\n",
        "if search(list,n):\n",
        "    print(\"Found it at position:\",pos+1)\n",
        "else:\n",
        "    print(\"Element not found\")"
      ],
      "metadata": {
        "colab": {
          "base_uri": "https://localhost:8080/"
        },
        "id": "GIDI2qUBvsyL",
        "outputId": "736e8051-80d2-41ca-eb50-bebaa8a7e7ec"
      },
      "execution_count": 16,
      "outputs": [
        {
          "output_type": "stream",
          "name": "stdout",
          "text": [
            "Element not found\n"
          ]
        }
      ]
    },
    {
      "cell_type": "markdown",
      "source": [
        "-->**JUMP SEARCH**"
      ],
      "metadata": {
        "id": "Y0nWkGlHvzKF"
      }
    },
    {
      "cell_type": "code",
      "source": [
        "#JUMP SEARCH IMPLEMENTATION\n",
        "import math\n",
        "def jumpSearch(arr,x,n):\n",
        "  step=math.sqrt(n)\n",
        "  prev=0\n",
        "  a=arr[int(min(step,n)-1)]\n",
        "  print(\"a\",a)\n",
        "  while arr[int(min(step,n)-1)]<x:\n",
        "    prev=step\n",
        "    step+=math.sqrt(n)\n",
        "    if prev>=n:\n",
        "      return -1\n",
        "  while arr[int(prev)]<x:\n",
        "    prev+=1\n",
        "    if prev==min(step,n):\n",
        "      return -1\n",
        "  if arr[int(prev)]==x:\n",
        "    return prev\n",
        "  return -1\n",
        "arr=[0,1,1,2,4,5,9,13,21,34,55,89,144,300,377,710]\n",
        "x=9\n",
        "n=len(arr)\n",
        "index=jumpSearch(arr,x,n)\n",
        "print(\"Number\",x,\"is at index\",\"%.0f\"%index)"
      ],
      "metadata": {
        "colab": {
          "base_uri": "https://localhost:8080/"
        },
        "id": "XEmhE25xv4Id",
        "outputId": "8d0884ee-24eb-48cf-fa48-674e5af8d67c"
      },
      "execution_count": 17,
      "outputs": [
        {
          "output_type": "stream",
          "name": "stdout",
          "text": [
            "a 2\n",
            "Number 9 is at index 6\n"
          ]
        }
      ]
    }
  ]
}