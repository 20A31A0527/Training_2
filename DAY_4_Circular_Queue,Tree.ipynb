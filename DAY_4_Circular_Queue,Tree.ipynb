{
  "nbformat": 4,
  "nbformat_minor": 0,
  "metadata": {
    "colab": {
      "provenance": [],
      "authorship_tag": "ABX9TyNmY9e8BEYLm14r6e/h28LQ",
      "include_colab_link": true
    },
    "kernelspec": {
      "name": "python3",
      "display_name": "Python 3"
    },
    "language_info": {
      "name": "python"
    }
  },
  "cells": [
    {
      "cell_type": "markdown",
      "metadata": {
        "id": "view-in-github",
        "colab_type": "text"
      },
      "source": [
        "<a href=\"https://colab.research.google.com/github/20A31A0527/Training_2/blob/main/DAY_4_Circular_Queue%2CTree.ipynb\" target=\"_parent\"><img src=\"https://colab.research.google.com/assets/colab-badge.svg\" alt=\"Open In Colab\"/></a>"
      ]
    },
    {
      "cell_type": "code",
      "source": [
        "#list(map())\n",
        "a=list(map(int,input().split()))\n",
        "sum=0\n",
        "for i in a:\n",
        "  print(i,end=\" \")\n",
        "  sum=sum+i\n",
        "print(\"\\nSum of the list :\",sum)\n",
        "\n"
      ],
      "metadata": {
        "id": "MFvlZ9i0rUQn",
        "colab": {
          "base_uri": "https://localhost:8080/"
        },
        "outputId": "d8cb564f-875b-42b5-e624-32d1f5741eac"
      },
      "execution_count": null,
      "outputs": [
        {
          "output_type": "stream",
          "name": "stdout",
          "text": [
            "1 2 3 4 5\n",
            "1 2 3 4 5 \n",
            "Sum of the list : 15\n"
          ]
        }
      ]
    },
    {
      "cell_type": "code",
      "source": [
        "#map()----another form\n",
        "n=int(input(\"Enter size:\"))\n",
        "a=list(map(int,input().split()))[n:]    #adds the numbers which are given after the size\n",
        "sum=0\n",
        "for i in a:\n",
        "  print(i,end=\" \")\n",
        "  sum=sum+i\n",
        "print(\"\\nSum of the list :\",sum)\n"
      ],
      "metadata": {
        "colab": {
          "base_uri": "https://localhost:8080/"
        },
        "id": "1FnXNkZgtokm",
        "outputId": "a806ba4f-97b0-488e-d4f6-6cad63241743"
      },
      "execution_count": null,
      "outputs": [
        {
          "output_type": "stream",
          "name": "stdout",
          "text": [
            "Enter size:4\n",
            "1 2 3 4 5\n",
            "5 \n",
            "Sum of the list : 5\n"
          ]
        }
      ]
    },
    {
      "cell_type": "markdown",
      "source": [
        "--->**CIRCULAR QUEUE IMPLEMENTATION**\n",
        "\n",
        "* With linear queue empty spaces which we get after performing dequeue \n",
        "operations cannot be used.However,it is very much possibile when we make that linear queue as circular queueu.\n",
        "* This is the advantage of circular queue."
      ],
      "metadata": {
        "id": "SW3nzye2uyz5"
      }
    },
    {
      "cell_type": "markdown",
      "source": [
        "**ASSESSMENT :**\n",
        "\n",
        "@Findout when rear will be greater than front in circular queue?"
      ],
      "metadata": {
        "id": "xeYQIaXzy2L7"
      }
    },
    {
      "cell_type": "code",
      "source": [
        "#CIRCULAR QUEUE IMPLEMENTATION\n",
        "class CircularQueue:\n",
        "  def __init__(self,size):                           #initializing the class\n",
        "    self.size=size\n",
        "    self.queue=[None for i in range(size)]           #can use self.queue=[None]*size\n",
        "    self.front=self.rear=-1\n",
        "  def enqueue(self,data):\n",
        "    if((self.rear+1)%self.size==self.front):         #condition to check if queue is full\n",
        "      print(\"\\nQueue is full\\n\")\n",
        "    elif(self.front==-1):                            #condition for empty queue\n",
        "      self.front=0\n",
        "      self.rear=0\n",
        "      self.queue[self.rear]=data\n",
        "    else:\n",
        "      self.rear=(self.rear+1)%self.size\n",
        "      self.queue[self.rear]=data                     \n",
        "  def dequeue(self):                               \n",
        "    if(self.front==-1):\n",
        "      print(\"Queue is empty\\n\")\n",
        "    elif(self.front==self.rear):\n",
        "      temp=self.queue[self.front]\n",
        "      self.front=-1\n",
        "      self.rear=-1\n",
        "      return temp\n",
        "    else:\n",
        "      temp=self.queue[self.front]\n",
        "      self.front=(self.front+1)%self.size\n",
        "      return temp\n",
        "  def display(self):\n",
        "    if(self.front==-1):\n",
        "      print(\"Queue is empty\\n\")\n",
        "    elif (self.rear>=self.front):\n",
        "      print(\"\\nElements in the circular queue :\",end=\" \")\n",
        "      for i in range(self.front,self.rear+1):\n",
        "        print(self.queue[i],end=\" \")\n",
        "    \n",
        "      else:\n",
        "        print(\"\\nElements in the circular queue :\",end=\" \")\n",
        "        for i in range(self.front,self.size):\n",
        "          print(self.queue[i],end=\" \")\n",
        "        for i in range(self.front,self.rear+1):\n",
        "          print(self.queue[i],end=\" \")\n",
        "      if(self.rear+1)%self.size==self.front:\n",
        "        print(\"\\nQueue is full\")\n",
        "ob=CircularQueue(5)\n",
        "ob.enqueue(14)\n",
        "ob.enqueue(22)\n",
        "ob.enqueue(13)\n",
        "ob.enqueue(-6)\n",
        "ob.display()\n",
        "print(\"\\nDeleted value :\",ob.dequeue())\n",
        "print(\"\\nDeleted value :\",ob.dequeue())\n",
        "ob.display()\n",
        "ob.enqueue(9)\n",
        "ob.enqueue(20)\n",
        "ob.enqueue(5)\n",
        "ob.display()\n",
        "ob.enqueue(89)     #doesnt insert beacuse queue is full\n"
      ],
      "metadata": {
        "colab": {
          "base_uri": "https://localhost:8080/"
        },
        "id": "7ZN4lUIsu4Kp",
        "outputId": "579049c2-cdf5-47ef-e455-6655c80e5b0a"
      },
      "execution_count": 2,
      "outputs": [
        {
          "output_type": "stream",
          "name": "stdout",
          "text": [
            "\n",
            "Elements in the circular queue : 14 22 13 -6 \n",
            "Elements in the circular queue : 14 22 13 -6 None 14 22 13 -6 \n",
            "Deleted value : 14\n",
            "\n",
            "Deleted value : 22\n",
            "\n",
            "Elements in the circular queue : 13 -6 \n",
            "Elements in the circular queue : 13 -6 None 13 -6 \n",
            "Queue is full\n",
            "\n"
          ]
        }
      ]
    },
    {
      "cell_type": "markdown",
      "source": [
        "###**TREE**\n",
        "\n",
        "    * In a tree,nodes can have 'n' number of children.\n",
        "    * Height of the tree is calculated from bottom \n",
        "      i.e count of levels from bottom\n",
        "    * Depth of the tree is calculated from top\n",
        "      i.e count of levels from top\n",
        "    * rootnode has depth of 0\n",
        "    * leafnode has height of 0"
      ],
      "metadata": {
        "id": "adULnRq3f3i8"
      }
    },
    {
      "cell_type": "markdown",
      "source": [
        "###T**YPES OF TREE**:\n",
        "1. BINARY TREE\n",
        "    \n",
        "     * A node can have maximum two children\n",
        "     * We have to traverse level by level starting proceeding from left to right\n",
        " "
      ],
      "metadata": {
        "id": "cGUUQvtCnLFU"
      }
    },
    {
      "cell_type": "markdown",
      "source": [
        "####**TYPES OF TREE TRAVERSAL**\n",
        "\n",
        "1. BFS\n",
        "       *  Also called as Breadth First Search\n",
        "       *  Or Level Order Traversal\n",
        "\n",
        "2. DFS\n",
        "       * Called as Depth First Search\n",
        "       * There are 3 types of DFS:\n",
        "                 -Preorder traversal  (root-->left-->right) (DLR)\n",
        "                 -Inorder Traversal   (left-->root-->right) (LDR)\n",
        "                 -Postorder Traversal (left-->right-->root) (LRD)\n",
        "                       where D(data)--->root"
      ],
      "metadata": {
        "id": "S6R8bt_Rvxph"
      }
    },
    {
      "cell_type": "markdown",
      "source": [
        "--->**BINARY TREE IMPLEMENTATION**"
      ],
      "metadata": {
        "id": "SX7rWKN1pixP"
      }
    },
    {
      "cell_type": "code",
      "source": [
        "#BINARY TREE IMPLEMENTATION\n",
        "class BinaryTreeNode:\n",
        "  def __init__(self,data):\n",
        "    self.data=data\n",
        "    self.leftChild=None\n",
        "    self.rightChild=None\n",
        "node1=BinaryTreeNode(50)\n",
        "node2=BinaryTreeNode(20)\n",
        "node3=BinaryTreeNode(45)\n",
        "node4=BinaryTreeNode(11)\n",
        "node5=BinaryTreeNode(15)\n",
        "node6=BinaryTreeNode(30)\n",
        "node7=BinaryTreeNode(78)\n",
        "\n",
        "node1.leftChild=node2\n",
        "node1.rightChild=node3\n",
        "node2.leftChild=node4\n",
        "node2.rightchild=node5\n",
        "node3.leftChild=node6\n",
        "node3.rightChild=node7\n",
        "\n",
        "print(\"Root Node is:\",node1.data)\n",
        "print(\"LeftChild of node1 is:\",node1.leftChild.data)\n",
        "print(\"RightChild of node1 is:\",node1.rightChild.data)\n",
        "print(\"Last Node is:\",node7.data)\n",
        "\n",
        "\n"
      ],
      "metadata": {
        "colab": {
          "base_uri": "https://localhost:8080/"
        },
        "id": "5cyaQMMTf37d",
        "outputId": "76d9a3ac-648b-41e9-b439-e378168aecd8"
      },
      "execution_count": 5,
      "outputs": [
        {
          "output_type": "stream",
          "name": "stdout",
          "text": [
            "Root Node is: 50\n",
            "LeftChild of node1 is: 20\n",
            "RightChild of node1 is: 45\n",
            "Last Node is: 78\n"
          ]
        }
      ]
    },
    {
      "cell_type": "markdown",
      "source": [
        "---->**BINARY TREE INSERTION**\n",
        "\n",
        "- We will do Level Order Traversal till we find an empty space.\n",
        "\n",
        "- In that empty space,we insert new node"
      ],
      "metadata": {
        "id": "mDHbxEmouKHq"
      }
    },
    {
      "cell_type": "code",
      "source": [
        "#BINARY TREE INSERTION\n",
        "class newNode:\n",
        "  def __init__(self,data):\n",
        "    self.key=data\n",
        "    self.left=None\n",
        "    self.right=None\n",
        "\"\"\"Inorder Traversal of Binary Tree\"\"\"\n",
        "def inorder(temp):\n",
        "  if(not temp):\n",
        "    return\n",
        "  inorder(temp.left)\n",
        "  print(temp.key,end=\" \")\n",
        "  inorder(temp.right)\n",
        "def insert(temp,key):\n",
        "  if not temp:\n",
        "    root=newNode(key)\n",
        "    return\n",
        "  q=[]\n",
        "  q.append(temp)\n",
        "  print(\"\\n\")\n",
        "  print(type(q))\n",
        "  print(len(q))\n",
        "#DO LEVEL ORDER TRAVERSAL UNTIL WE FIND EMPTY SPACE\n",
        "  while (len(q)):\n",
        "    print(len(q))\n",
        "    temp=q[0]\n",
        "    q.pop(0)\n",
        "    if (not temp.left):\n",
        "      temp.left=newNode(key)\n",
        "      break\n",
        "    else:\n",
        "      q.append(temp.left)\n",
        "    if (not temp.right):\n",
        "      temp.right=newNode(key)\n",
        "      break\n",
        "    else:\n",
        "      q.append(temp.right)\n",
        "if __name__==\"__main__\":\n",
        "  root=newNode(10)\n",
        "  root.left=newNode(11)\n",
        "  root.left.left=newNode(7)\n",
        "  root.right=newNode(9)\n",
        "  root.right.left=newNode(15)\n",
        "  root.right.right=newNode(8)\n",
        "  print(\"Inorder traversal before insertion:\",end=\" \")\n",
        "  inorder(root)\n",
        "  key=12\n",
        "  insert(root,key)\n",
        "  print()\n",
        "  print(\"Inorder traversal after insertion:\",end=\" \")\n",
        "  inorder(root)\n"
      ],
      "metadata": {
        "colab": {
          "base_uri": "https://localhost:8080/"
        },
        "id": "yxrej2cHujXg",
        "outputId": "06e55fda-cde2-4b9a-9072-3081e79327d2"
      },
      "execution_count": 7,
      "outputs": [
        {
          "output_type": "stream",
          "name": "stdout",
          "text": [
            "Inorder traversal before insertion: 7 11 10 15 9 8 \n",
            "\n",
            "<class 'list'>\n",
            "1\n",
            "1\n",
            "2\n",
            "\n",
            "Inorder traversal after insertion: 7 11 12 10 15 9 8 "
          ]
        }
      ]
    },
    {
      "cell_type": "markdown",
      "source": [
        "####**TREE TRAVERSAL**\n",
        "-->**PREORDER,INORDER,POSTORDER** "
      ],
      "metadata": {
        "id": "mp6xM3Sy31Mf"
      }
    },
    {
      "cell_type": "code",
      "source": [
        "#PREORDER,INORDER,POSTORDER\n",
        "class Node:\n",
        "  def __init__(self,key):\n",
        "    self.left=None\n",
        "    self.right=None\n",
        "    self.val=key\n",
        "def printInorder(root):\n",
        "  if root:\n",
        "    printInorder(root.left)    #first recur on left child\n",
        "    print(root.val,end=\" \")    #print the data of node\n",
        "    printInorder(root.right)   #now recur on right child\n",
        "def printPostorder(root):\n",
        "  if root:\n",
        "    printPostorder(root.left)    \n",
        "    printPostorder(root.right)\n",
        "    print(root.val,end=\" \")  \n",
        "def printPreorder(root):\n",
        "  if root:\n",
        "    print(root.val,end=\" \") \n",
        "    printPreorder(root.left)    \n",
        "    printPreorder(root.right)\n",
        "root=Node(1)\n",
        "root.left=Node(2)\n",
        "root.right=Node(3)\n",
        "root.left.left=Node(4)\n",
        "root.left.right=Node(5)\n",
        "print(\"Preorder traversal is:\")\n",
        "printPreorder(root)\n",
        "print()\n",
        "print(\"Inorder traversal is:\")\n",
        "printInorder(root)\n",
        "print()\n",
        "print(\"Postorder traversal is:\")\n",
        "printPostorder(root)\n",
        "print()\n",
        "\n",
        "\n",
        "  \n",
        "\n",
        "  "
      ],
      "metadata": {
        "colab": {
          "base_uri": "https://localhost:8080/"
        },
        "id": "llE2-xm6_v8u",
        "outputId": "aa6d911d-673e-4e0e-8ab8-f23e97075917"
      },
      "execution_count": 11,
      "outputs": [
        {
          "output_type": "stream",
          "name": "stdout",
          "text": [
            "Preorder traversal is:\n",
            "1 2 4 5 3 \n",
            "Inorder traversal is:\n",
            "4 2 5 1 3 \n",
            "Postorder traversal is:\n",
            "4 5 2 3 1 \n"
          ]
        }
      ]
    }
  ]
}