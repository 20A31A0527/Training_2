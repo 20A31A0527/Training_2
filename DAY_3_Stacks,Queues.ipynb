{
  "nbformat": 4,
  "nbformat_minor": 0,
  "metadata": {
    "colab": {
      "provenance": [],
      "authorship_tag": "ABX9TyM0miWV7m4Nk9FsZlep4Gvm",
      "include_colab_link": true
    },
    "kernelspec": {
      "name": "python3",
      "display_name": "Python 3"
    },
    "language_info": {
      "name": "python"
    }
  },
  "cells": [
    {
      "cell_type": "markdown",
      "metadata": {
        "id": "view-in-github",
        "colab_type": "text"
      },
      "source": [
        "<a href=\"https://colab.research.google.com/github/20A31A0527/Training_2/blob/main/DAY_3_Stacks%2CQueues.ipynb\" target=\"_parent\"><img src=\"https://colab.research.google.com/assets/colab-badge.svg\" alt=\"Open In Colab\"/></a>"
      ]
    },
    {
      "cell_type": "markdown",
      "source": [
        "###STACK\n",
        " can be implemented using three ways\n",
        "  1. List\n",
        "  2. LinkedList\n",
        "  3. Queue\n",
        "\n",
        "####OPERATIONS OF STACK:\n",
        "1. Push\n",
        "2. Pop\n",
        "3. Peek or Top\n",
        "4. Empty or full"
      ],
      "metadata": {
        "id": "6FGVKuXXjv3f"
      }
    },
    {
      "cell_type": "markdown",
      "source": [
        "--->**STACK IMPLEMENTATION USING LIST**"
      ],
      "metadata": {
        "id": "qA3H5V6JkMZQ"
      }
    },
    {
      "cell_type": "code",
      "source": [
        "#STACK IMPLEMENTATION USING LIST\n",
        "stack=[]\n",
        "def push():\n",
        "  element=int(input(\"Enter the element to push:\"))\n",
        "  stack.append(element)\n",
        "  print(stack)\n",
        "def pop_element():\n",
        "  if not stack:\n",
        "    print(\"Stack is empty\")\n",
        "  else:\n",
        "    e=stack.pop()\n",
        "    print(\"Removed element:\",e)\n",
        "    print(stack)\n",
        "while True:\n",
        "  print(\"Enter the operation to perform---> 1.Push  2.Pop  3.Quit\")\n",
        "  choice=int(input(\"Enter your choice:\"))\n",
        "  if choice==1:\n",
        "    push()\n",
        "  elif choice==2:\n",
        "    pop_element()\n",
        "  elif choice==3:\n",
        "    break\n",
        "  else:\n",
        "    print(\"Please select correct operation !\")"
      ],
      "metadata": {
        "colab": {
          "base_uri": "https://localhost:8080/"
        },
        "id": "bPTNSZCJkM33",
        "outputId": "79e8e74c-c9cf-4f0d-a587-058f41d6d73d"
      },
      "execution_count": null,
      "outputs": [
        {
          "name": "stdout",
          "output_type": "stream",
          "text": [
            "Enter the operation to perform---> 1.Push  2.Pop  3.Quit\n",
            "Enter your choice:1\n",
            "Enter the element to push:123\n",
            "[123]\n",
            "Enter the operation to perform---> 1.Push  2.Pop  3.Quit\n",
            "Enter your choice:1\n",
            "Enter the element to push:56\n",
            "[123, 56]\n",
            "Enter the operation to perform---> 1.Push  2.Pop  3.Quit\n",
            "Enter your choice:1\n",
            "Enter the element to push:789\n",
            "[123, 56, 789]\n",
            "Enter the operation to perform---> 1.Push  2.Pop  3.Quit\n",
            "Enter your choice:4\n",
            "Please select correct operation !\n",
            "Enter the operation to perform---> 1.Push  2.Pop  3.Quit\n",
            "Enter your choice:3\n"
          ]
        }
      ]
    },
    {
      "cell_type": "markdown",
      "source": [
        "--->**STACK IMPLEMENTATION USING LINKEDLIST**\n",
        "\n",
        "1. Push is inserting node at the beginning\n",
        "2. Pop is removing the head node\n"
      ],
      "metadata": {
        "id": "13xhTVDVqswm"
      }
    },
    {
      "cell_type": "code",
      "source": [
        "#STACK IMPLEMENTATION USING LINKEDLIST\n",
        "class Node:\n",
        "  def __init__(self,data):\n",
        "    self.data=data\n",
        "    self.next=None\n",
        "class Stack:\n",
        "  def __init__(self):\n",
        "    self.head=None\n",
        "  def isempty(self):\n",
        "    if self.head==None:\n",
        "      return True\n",
        "    else:\n",
        "      return False\n",
        "  def push(self,data):\n",
        "    if self.head==None:\n",
        "      self.head=Node(data)\n",
        "    else:\n",
        "      newnode=Node(data)\n",
        "      newnode.next=self.head\n",
        "      self.head=newnode\n",
        "  def pop(self):\n",
        "    if self.isempty():\n",
        "      return None\n",
        "    else:\n",
        "      poppednode=self.head\n",
        "      self.head=self.head.next\n",
        "      poppednode.next=Node\n",
        "      return poppednode.data\n",
        "  def peek(self):\n",
        "    if self.isempty():\n",
        "      return None\n",
        "    else:\n",
        "      return self.head.data\n",
        "  def display(self):\n",
        "    temp=self.head\n",
        "    if self.isempty():\n",
        "      print(\"Stack underflows\")\n",
        "    else:\n",
        "      while(temp!=None):\n",
        "        print(temp.data,end=\" \")\n",
        "        temp=temp.next\n",
        "        if(temp!=None):\n",
        "          print(\"--->\",end=\" \")\n",
        "      return\n",
        "if __name__==\"__main__\":\n",
        "  s=Stack()\n",
        "  s.push(12)\n",
        "  s.push(23)\n",
        "  s.push(56)\n",
        "  s.push(89)\n",
        "  s.display()\n",
        "  print(\" \")\n",
        "  print(\"Peek:\",s.peek())\n",
        "  s.pop()\n",
        "  s.display()\n",
        "  print(\" \")\n",
        "  print(\"Peek:\",s.peek())"
      ],
      "metadata": {
        "colab": {
          "base_uri": "https://localhost:8080/"
        },
        "id": "zoaWFgQSqq_W",
        "outputId": "f020990f-4a9d-4ceb-a03e-21643f98f4fe"
      },
      "execution_count": null,
      "outputs": [
        {
          "output_type": "stream",
          "name": "stdout",
          "text": [
            "89 ---> 56 ---> 23 ---> 12  \n",
            "Peek: 89\n",
            "56 ---> 23 ---> 12  \n",
            "Peek: 56\n"
          ]
        }
      ]
    },
    {
      "cell_type": "markdown",
      "source": [
        "--->**STACK IMPLEMENTATION USING QUEUE**"
      ],
      "metadata": {
        "id": "7Z1LxzbH2lhD"
      }
    },
    {
      "cell_type": "code",
      "source": [
        "#STACK IMPLEMENTATION USING QUEUE\n",
        "from queue import LifoQueue\n",
        "s=LifoQueue(maxsize=3)\n",
        "print(\"Initial size of stack=\",s.qsize())\n",
        "s.put(\"J\")                                              #put() is a buitlin function used as push()\n",
        "s.put(\"A\")\n",
        "s.put(\"Y\")\n",
        "print(s.full())                                         #returns true if the stack is full otherwise false\n",
        "print(\"Size of stack after pushimg elements=\",s.qsize())               \n",
        "print(s.get())                                          #get() is inbuilt function same as pop()\n",
        "print(s.get())\n",
        "print(s.get())\n",
        "print(s.empty())"
      ],
      "metadata": {
        "colab": {
          "base_uri": "https://localhost:8080/"
        },
        "id": "8CHc_NCt2kjc",
        "outputId": "a0f8ed94-b9c7-4c61-9980-43611b0fe858"
      },
      "execution_count": null,
      "outputs": [
        {
          "output_type": "stream",
          "name": "stdout",
          "text": [
            "Initial size of stack= 0\n",
            "True\n",
            "Size of stack after pushimg elements= 3\n",
            "Y\n",
            "A\n",
            "J\n",
            "True\n"
          ]
        }
      ]
    },
    {
      "cell_type": "markdown",
      "source": [
        "###QUEUES\n",
        "   First In First Out"
      ],
      "metadata": {
        "id": "-lFEm8t09UUE"
      }
    },
    {
      "cell_type": "markdown",
      "source": [
        "--->**QUEUE IMPLEMENTATION USING LIST**"
      ],
      "metadata": {
        "id": "-wZ14CAk9YpE"
      }
    },
    {
      "cell_type": "code",
      "source": [
        "#QUEUE IMPLEMENTATION USING LIST\n",
        "queue=[]\n",
        "def enqueue():\n",
        "  element=input(\"Enter element:\")\n",
        "  queue.append(element)\n",
        "  print(element,\"is added to queue.\")\n",
        "def dequeue():\n",
        "  if not queue:\n",
        "    print(\"Queue is empty.\")\n",
        "  else:\n",
        "    e=queue.pop(0)\n",
        "    print(e,\"is removed.\")\n",
        "def display():\n",
        "  print(queue)\n",
        "while True:\n",
        "  print(\"Select an operation to perform: 1.Enqueue 2.Dequeue 3.Show 4.Quit\")\n",
        "  choice=int(input(\"Enter your choice:\"))\n",
        "  if choice==1:\n",
        "    enqueue()\n",
        "  elif choice==2:\n",
        "    dequeue()\n",
        "  elif choice==3:\n",
        "    display()\n",
        "  elif choice==4:\n",
        "    break\n",
        "  else:\n",
        "    print(\"Please select correct operation !\")\n"
      ],
      "metadata": {
        "colab": {
          "base_uri": "https://localhost:8080/"
        },
        "id": "t_8q2Wo49m0l",
        "outputId": "d0aa301c-3054-4941-d65d-f40de1f9dcb1"
      },
      "execution_count": null,
      "outputs": [
        {
          "name": "stdout",
          "output_type": "stream",
          "text": [
            "Select an operation to perform: 1.Enqueue 2.Dequeue 3.Show 4.Quit\n",
            "Enter your choice:1\n",
            "Enter element:123\n",
            "123 is added to queue.\n",
            "Select an operation to perform: 1.Enqueue 2.Dequeue 3.Show 4.Quit\n",
            "Enter your choice:1\n",
            "Enter element:456\n",
            "456 is added to queue.\n",
            "Select an operation to perform: 1.Enqueue 2.Dequeue 3.Show 4.Quit\n",
            "Enter your choice:2\n",
            "123 is removed.\n",
            "Select an operation to perform: 1.Enqueue 2.Dequeue 3.Show 4.Quit\n",
            "Enter your choice:2\n",
            "456 is removed.\n",
            "Select an operation to perform: 1.Enqueue 2.Dequeue 3.Show 4.Quit\n",
            "Enter your choice:3\n",
            "[]\n",
            "Select an operation to perform: 1.Enqueue 2.Dequeue 3.Show 4.Quit\n",
            "Enter your choice:4\n"
          ]
        }
      ]
    },
    {
      "cell_type": "markdown",
      "source": [
        "--->**QUEUE IMPLEMENTATION USING QUEUE MODULE**"
      ],
      "metadata": {
        "id": "8n8RilfYApZn"
      }
    },
    {
      "cell_type": "code",
      "source": [
        "##QUEUE IMPLEMENTATION USING QUEUE MODULE\n",
        "import queue\n",
        "l=queue.Queue(maxsize=5)\n",
        "l.put(\"J\")\n",
        "l.put(\"A\")\n",
        "l.put(\"Y\")\n",
        "l.put(20)\n",
        "print(type(l))\n",
        "print(l.get())\n",
        "print(l.get())\n",
        "print(l.empty())"
      ],
      "metadata": {
        "colab": {
          "base_uri": "https://localhost:8080/"
        },
        "id": "3YTCTGGuAOb2",
        "outputId": "81d0cba1-2dfe-4e31-f2ec-11bb4589b5bf"
      },
      "execution_count": null,
      "outputs": [
        {
          "output_type": "stream",
          "name": "stdout",
          "text": [
            "<class 'queue.Queue'>\n",
            "J\n",
            "A\n",
            "False\n"
          ]
        }
      ]
    },
    {
      "cell_type": "markdown",
      "source": [
        "###PUZZLE\n",
        "\n",
        "\n",
        "conditions:\n",
        "* CREATE TWO STACKS & DEFINE STACK SIZE OF BOTH STACKS AS 5 \n",
        "* IF YOUR INPUT IS EVEN NUMBER IT HAS TO BE PUSHED IN STACK_1\n",
        "* OTHER INPUTS HAS TO BE PUSHED IN STACK_2\n",
        "* OPTIONS: PUSH/POP/DISPLAY_STACK/QUIT"
      ],
      "metadata": {
        "id": "0Sq5VkxdCPfP"
      }
    },
    {
      "cell_type": "code",
      "source": [
        "#PUZZLE\n",
        "from queue import LifoQueue\n",
        "stack_1=[]\n",
        "stack_2=[]\n",
        "s1=LifoQueue(maxsize=5)\n",
        "s2=LifoQueue(maxsize=5)\n",
        "def push():\n",
        "  element=int(input(\"Enter a number:\"))\n",
        "  if element%2==0:\n",
        "    stack_1.append(element)\n",
        "    print(\"stack1 consist of:\",stack_1)\n",
        "  else:\n",
        "    stack_2.append(element)\n",
        "    print(\"stack2 consist:\",stack_2)\n",
        "def pop_element():\n",
        "  if not stack_1 and stack_2:\n",
        "    print(\"Stack is empty\")\n",
        "  else:\n",
        "    \n",
        "    no=int(input(\"Enter stack number to pop:\"))\n",
        "    if no==1:\n",
        "      e1=stack_1.pop()\n",
        "      print(\"Removed element:\",e1)\n",
        "      print(\"stack_1 consists of:\",stack_1)\n",
        "    elif no==2:\n",
        "      e2=stack_2.pop()\n",
        "      print(\"Removed element:\",e2)\n",
        "      print(\"stack_1 consists of:\",stack_2)\n",
        "    else:\n",
        "      print(\"Print valid number.\")\n",
        "def display():\n",
        "  \n",
        "  ch=int(input(\"Enter your stack number you want to display:\"))\n",
        "  if ch==1:\n",
        "    print(\"stack_1 is:\",stack_1)\n",
        "  elif ch==2:\n",
        "    print(\"stack_2 is:\",stack_2)\n",
        "  else:\n",
        "    print(\"Enter correct number..\")\n",
        "while True:\n",
        "  print(\"Enter the operation to perform---> 1.Push  2.Pop  3.show  4.Quit\")\n",
        "  choice=int(input(\"Enter your choice:\"))\n",
        "  if choice==1:\n",
        "    push()\n",
        "  elif choice==2:\n",
        "    pop_element()\n",
        "  elif choice==3:\n",
        "    display()\n",
        "  elif choice==4:\n",
        "    break\n",
        "  else:\n",
        "    print(\"Please select correct operation !\")\n"
      ],
      "metadata": {
        "id": "Sg85cg0QDTOP",
        "colab": {
          "base_uri": "https://localhost:8080/"
        },
        "outputId": "739ed4ef-42bc-4720-9705-56492c42a79a"
      },
      "execution_count": null,
      "outputs": [
        {
          "name": "stdout",
          "output_type": "stream",
          "text": [
            "Enter the operation to perform---> 1.Push  2.Pop  3.show  4.Quit\n",
            "Enter your choice:1\n",
            "Enter a number:5\n",
            "stack2 consist: [5]\n",
            "Enter the operation to perform---> 1.Push  2.Pop  3.show  4.Quit\n",
            "Enter your choice:1\n",
            "Enter a number:2\n",
            "stack1 consist of: [2]\n",
            "Enter the operation to perform---> 1.Push  2.Pop  3.show  4.Quit\n",
            "Enter your choice:1\n",
            "Enter a number:11\n",
            "stack2 consist: [5, 11]\n",
            "Enter the operation to perform---> 1.Push  2.Pop  3.show  4.Quit\n",
            "Enter your choice:1\n",
            "Enter a number:44\n",
            "stack1 consist of: [2, 44]\n",
            "Enter the operation to perform---> 1.Push  2.Pop  3.show  4.Quit\n",
            "Enter your choice:2\n",
            "Enter stack number to pop:1\n",
            "Removed element: 44\n",
            "stack_1 consists of: [2]\n",
            "Enter the operation to perform---> 1.Push  2.Pop  3.show  4.Quit\n",
            "Enter your choice:2\n",
            "Enter stack number to pop:2\n",
            "Removed element: 11\n",
            "stack_1 consists of: [5]\n",
            "Enter the operation to perform---> 1.Push  2.Pop  3.show  4.Quit\n",
            "Enter your choice:3\n",
            "Enter your stack number you want to display:2\n",
            "stack_2 is: [5]\n",
            "Enter the operation to perform---> 1.Push  2.Pop  3.show  4.Quit\n",
            "Enter your choice:4\n"
          ]
        }
      ]
    },
    {
      "cell_type": "code",
      "source": [
        "#PUZZLE------------->ANOTHER WAY\n",
        "stack_1=[]\n",
        "stack_2=[]\n",
        "def push():\n",
        "  for i in range(5):\n",
        "    element=int(input(\"Enter element:\"))\n",
        "    if element%2==0:\n",
        "      stack_1.append(element)\n",
        "    else:\n",
        "      stack_2.append(element)\n",
        "def pop_element():\n",
        "  pop_what=input(\"Enter 1 or 2 to pop:\")\n",
        "  if pop_what==\"1\":\n",
        "    if not stack_1:\n",
        "      print(\"Stack is empty.\")\n",
        "    else:\n",
        "      e=stack_1.pop()\n",
        "      print(\"Removed element:\",e)\n",
        "      print(\"stack_1 consists of:\",stack_1)\n",
        "  else:\n",
        "    if not stack_2:\n",
        "      print(\"Stack is empty.\")\n",
        "    else:\n",
        "      e=stack_2.pop()\n",
        "      print(\"Removed element:\",e)\n",
        "      print(\"stack_2 consists of:\",stack_2)\n",
        "def display():\n",
        "  what=input(\"Enter 1 or 2 to display:\")\n",
        "  if what==\"1\":\n",
        "    print(stack_1)\n",
        "  else:\n",
        "    print(stack_2)\n",
        "while True:\n",
        "  print(\"Enter the operation to perform---> 1.Push  2.Pop  3.show  4.Quit\")\n",
        "  choice=int(input(\"Enter your choice:\"))\n",
        "  if choice==1:\n",
        "    push()\n",
        "  elif choice==2:\n",
        "    pop_element()\n",
        "  elif choice==3:\n",
        "    display()\n",
        "  elif choice==4:\n",
        "    break\n",
        "  else:\n",
        "    print(\"Please select correct operation !\")"
      ],
      "metadata": {
        "colab": {
          "base_uri": "https://localhost:8080/"
        },
        "id": "D5PGRmX-muAR",
        "outputId": "0fbe29ad-6393-40f8-aaaa-f4ed700f0d4a"
      },
      "execution_count": null,
      "outputs": [
        {
          "name": "stdout",
          "output_type": "stream",
          "text": [
            "Enter the operation to perform---> 1.Push  2.Pop  3.show  4.Quit\n",
            "Enter your choice:1\n",
            "Enter element:11\n",
            "Enter element:22\n",
            "Enter element:33\n",
            "Enter element:44\n",
            "Enter element:55\n",
            "Enter the operation to perform---> 1.Push  2.Pop  3.show  4.Quit\n",
            "Enter your choice:2\n",
            "Enter 1 or 2 to pop:1\n",
            "Removed element: 44\n",
            "stack_1 consists of: [22]\n",
            "Enter the operation to perform---> 1.Push  2.Pop  3.show  4.Quit\n",
            "Enter your choice:2\n",
            "Enter 1 or 2 to pop:2\n",
            "Removed element: 55\n",
            "stack_2 consists of: [11, 33]\n",
            "Enter the operation to perform---> 1.Push  2.Pop  3.show  4.Quit\n",
            "Enter your choice:3\n",
            "Enter 1 or 2 to display:1\n",
            "[22]\n",
            "Enter the operation to perform---> 1.Push  2.Pop  3.show  4.Quit\n",
            "Enter your choice:3\n",
            "Enter 1 or 2 to display:2\n",
            "[11, 33]\n",
            "Enter the operation to perform---> 1.Push  2.Pop  3.show  4.Quit\n",
            "Enter your choice:4\n"
          ]
        }
      ]
    },
    {
      "cell_type": "markdown",
      "source": [
        "--->**QUEUE IMPLEMENTATION USING LINKEDLIST**"
      ],
      "metadata": {
        "id": "y777v7bsnTeq"
      }
    },
    {
      "cell_type": "code",
      "source": [
        "###QUEUE IMPLEMENTATION USING LINKEDLIST\n",
        "class Node:\n",
        "  def __init__(self,data):\n",
        "    self.data=data\n",
        "    self.next=None\n",
        "class Queue:\n",
        "  def __init__(self):\n",
        "    self.head=None\n",
        "    self.last=None\n",
        "  def enqueue(self,data):\n",
        "    if self.last is None:\n",
        "      self.head=Node(data)\n",
        "      self.last=self.head\n",
        "    else:\n",
        "      self.last.next=Node(data)\n",
        "      self.last=self.last.next\n",
        "  def dequeue(self):\n",
        "    if self.head is None:\n",
        "      return Node\n",
        "    else:\n",
        "      to_return=self.head.data\n",
        "      self.head=self.head.next\n",
        "      return to_return\n",
        "a_queue=Queue()\n",
        "while True:\n",
        "  print('enqueue <value>')\n",
        "  print('dequeue')\n",
        "  print('quit')\n",
        "  do=input('what would you like to do?').split()\n",
        "  operation=do[0].strip().lower()\n",
        "  if operation==\"enqueue\":\n",
        "    a_queue.enqueue(int(do[1]))\n",
        "  elif operation==\"dequeue\":\n",
        "    dequeued=a_queue.dequeue()\n",
        "    if dequeued is None:\n",
        "      print(\"Queue is Empty.\")\n",
        "    else:\n",
        "      print(\"Dequeued element\",int(dequeued))\n",
        "  elif operation=='quit':\n",
        "    break\n"
      ],
      "metadata": {
        "colab": {
          "base_uri": "https://localhost:8080/"
        },
        "id": "1YDbpDOBnlmS",
        "outputId": "1c44f65a-bca3-4118-9d04-6947642f7f65"
      },
      "execution_count": null,
      "outputs": [
        {
          "name": "stdout",
          "output_type": "stream",
          "text": [
            "enqueue <value>\n",
            "dequeue\n",
            "quit\n",
            "what would you like to do?enqueue 10\n",
            "enqueue <value>\n",
            "dequeue\n",
            "quit\n",
            "what would you like to do?enqueue 20\n",
            "enqueue <value>\n",
            "dequeue\n",
            "quit\n",
            "what would you like to do?dequeue\n",
            "Dequeued element 10\n",
            "enqueue <value>\n",
            "dequeue\n",
            "quit\n",
            "what would you like to do?quit\n"
          ]
        }
      ]
    },
    {
      "cell_type": "markdown",
      "source": [
        "###TYPES OF QUEUES\n",
        "\n",
        "*  CIRCULAR QUEUES\n",
        "*  PRIORITY QUEUE"
      ],
      "metadata": {
        "id": "8SE1VEkHve7q"
      }
    },
    {
      "cell_type": "markdown",
      "source": [
        "**Priority Queue:**\n",
        "\n",
        "Those elements are in queue as per the priority given to the elements will get privileged to pop from the queue\n",
        "\n",
        "**Circular Queue:**\n",
        "\n",
        "Empty spaces in the queue can be used ,once the queue is full,still want to add elements in a circular way"
      ],
      "metadata": {
        "id": "UTKNYqswxYPm"
      }
    },
    {
      "cell_type": "markdown",
      "source": [
        "####**CIRCULAR QUEUE**\n",
        "\n",
        "**step-1** : front,rear= -1\n",
        "\n",
        "**step-2**: while inserting increase the front; front=front+1\n",
        "\n",
        "          * INSERTION: rear=rear+1\n",
        "\n",
        "          * DELETION: front=front+1"
      ],
      "metadata": {
        "id": "9qx93rqo0Scs"
      }
    }
  ]
}