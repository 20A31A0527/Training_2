{
  "nbformat": 4,
  "nbformat_minor": 0,
  "metadata": {
    "colab": {
      "provenance": [],
      "authorship_tag": "ABX9TyOPj89H3XI/LXXWKWOGOj5+",
      "include_colab_link": true
    },
    "kernelspec": {
      "name": "python3",
      "display_name": "Python 3"
    },
    "language_info": {
      "name": "python"
    }
  },
  "cells": [
    {
      "cell_type": "markdown",
      "metadata": {
        "id": "view-in-github",
        "colab_type": "text"
      },
      "source": [
        "<a href=\"https://colab.research.google.com/github/20A31A0527/Training_2/blob/main/DAY_1_Encapsulation%2CLinkedLists.ipynb\" target=\"_parent\"><img src=\"https://colab.research.google.com/assets/colab-badge.svg\" alt=\"Open In Colab\"/></a>"
      ]
    },
    {
      "cell_type": "markdown",
      "source": [
        "##OOPS\n",
        "1. Class variables can be accessed inside the method using keyword \"self\".\n",
        "2. Instance variable can be accessed outside the class using\"Object_name.Variable_name\".\n",
        "3. Variables inside methods having local scope,we cannot access them outside the class\n",
        "\n"
      ],
      "metadata": {
        "id": "bZOkodGWO08C"
      }
    },
    {
      "cell_type": "code",
      "source": [
        "#how to create a class and object\n",
        "class happy:\n",
        "  a=100\n",
        "  def method(self):\n",
        "    b=12\n",
        "    print(self.a)              #accesing intstance variable in method\n",
        "    print(b)\n",
        "obj=happy()\n",
        "print(obj.a)\n",
        "obj.method()"
      ],
      "metadata": {
        "colab": {
          "base_uri": "https://localhost:8080/"
        },
        "id": "0b5XqMvMPLFz",
        "outputId": "c8bf3f22-5205-4af3-f7d3-949d4e530905"
      },
      "execution_count": null,
      "outputs": [
        {
          "output_type": "stream",
          "name": "stdout",
          "text": [
            "100\n",
            "100\n",
            "12\n"
          ]
        }
      ]
    },
    {
      "cell_type": "markdown",
      "source": [
        "##ENCAPSULATION\n",
        "\n",
        "It provides data security\n",
        "1. Public\n",
        "2. Private\n",
        "3. Protected"
      ],
      "metadata": {
        "id": "hSi9doqDQHYU"
      }
    },
    {
      "cell_type": "code",
      "source": [
        "#protected --->marking a variable with _(single underscore) is protected\n",
        "class encap:\n",
        "  _a=10\n",
        "  c=20\n",
        "  def encapfunction(self):\n",
        "    _b=299\n",
        "    print(\"Encap function-Accessing protected:\")\n",
        "    print(self._a+10)\n",
        "    print(_b)\n",
        "obj=encap()\n",
        "print(obj._a)\n",
        "obj.encapfunction()\n",
        "print(obj.c)\n"
      ],
      "metadata": {
        "colab": {
          "base_uri": "https://localhost:8080/"
        },
        "id": "QChvMiKrQnY7",
        "outputId": "1aa7057f-62f1-4091-aca3-98893adf0b7a"
      },
      "execution_count": null,
      "outputs": [
        {
          "output_type": "stream",
          "name": "stdout",
          "text": [
            "10\n",
            "Encap function-Accessing protected:\n",
            "20\n",
            "299\n",
            "20\n"
          ]
        }
      ]
    },
    {
      "cell_type": "code",
      "source": [
        "#private--->marking a variable with __(double underscore) is private\n",
        "class encap:\n",
        "  __a=10\n",
        "  print(__a)\n",
        "  def encapfun(self):\n",
        "    print(\"Encap Function\")\n",
        "    print(self.___a)\n",
        "obj=encap()\n",
        "obj.encapfun()\n",
        "print(obj.__a)     #it will give an error beacause \"a\" is private and cannot be accesed outside the class"
      ],
      "metadata": {
        "colab": {
          "base_uri": "https://localhost:8080/",
          "height": 373
        },
        "id": "82TuZmZuUVM-",
        "outputId": "ce614e31-4a77-4e6e-f5c0-065fa60772cf"
      },
      "execution_count": null,
      "outputs": [
        {
          "output_type": "stream",
          "name": "stdout",
          "text": [
            "10\n",
            "Encap Function\n"
          ]
        },
        {
          "output_type": "error",
          "ename": "AttributeError",
          "evalue": "ignored",
          "traceback": [
            "\u001b[0;31m---------------------------------------------------------------------------\u001b[0m",
            "\u001b[0;31mAttributeError\u001b[0m                            Traceback (most recent call last)",
            "\u001b[0;32m<ipython-input-15-dc79853c1349>\u001b[0m in \u001b[0;36m<module>\u001b[0;34m\u001b[0m\n\u001b[1;32m      7\u001b[0m     \u001b[0mprint\u001b[0m\u001b[0;34m(\u001b[0m\u001b[0mself\u001b[0m\u001b[0;34m.\u001b[0m\u001b[0m___a\u001b[0m\u001b[0;34m)\u001b[0m\u001b[0;34m\u001b[0m\u001b[0;34m\u001b[0m\u001b[0m\n\u001b[1;32m      8\u001b[0m \u001b[0mobj\u001b[0m\u001b[0;34m=\u001b[0m\u001b[0mencap\u001b[0m\u001b[0;34m(\u001b[0m\u001b[0;34m)\u001b[0m\u001b[0;34m\u001b[0m\u001b[0;34m\u001b[0m\u001b[0m\n\u001b[0;32m----> 9\u001b[0;31m \u001b[0mobj\u001b[0m\u001b[0;34m.\u001b[0m\u001b[0mencapfun\u001b[0m\u001b[0;34m(\u001b[0m\u001b[0;34m)\u001b[0m\u001b[0;34m\u001b[0m\u001b[0;34m\u001b[0m\u001b[0m\n\u001b[0m\u001b[1;32m     10\u001b[0m \u001b[0mprint\u001b[0m\u001b[0;34m(\u001b[0m\u001b[0mobj\u001b[0m\u001b[0;34m.\u001b[0m\u001b[0m__a\u001b[0m\u001b[0;34m)\u001b[0m\u001b[0;34m\u001b[0m\u001b[0;34m\u001b[0m\u001b[0m\n",
            "\u001b[0;32m<ipython-input-15-dc79853c1349>\u001b[0m in \u001b[0;36mencapfun\u001b[0;34m(self)\u001b[0m\n\u001b[1;32m      5\u001b[0m   \u001b[0;32mdef\u001b[0m \u001b[0mencapfun\u001b[0m\u001b[0;34m(\u001b[0m\u001b[0mself\u001b[0m\u001b[0;34m)\u001b[0m\u001b[0;34m:\u001b[0m\u001b[0;34m\u001b[0m\u001b[0;34m\u001b[0m\u001b[0m\n\u001b[1;32m      6\u001b[0m     \u001b[0mprint\u001b[0m\u001b[0;34m(\u001b[0m\u001b[0;34m\"Encap Function\"\u001b[0m\u001b[0;34m)\u001b[0m\u001b[0;34m\u001b[0m\u001b[0;34m\u001b[0m\u001b[0m\n\u001b[0;32m----> 7\u001b[0;31m     \u001b[0mprint\u001b[0m\u001b[0;34m(\u001b[0m\u001b[0mself\u001b[0m\u001b[0;34m.\u001b[0m\u001b[0m___a\u001b[0m\u001b[0;34m)\u001b[0m\u001b[0;34m\u001b[0m\u001b[0;34m\u001b[0m\u001b[0m\n\u001b[0m\u001b[1;32m      8\u001b[0m \u001b[0mobj\u001b[0m\u001b[0;34m=\u001b[0m\u001b[0mencap\u001b[0m\u001b[0;34m(\u001b[0m\u001b[0;34m)\u001b[0m\u001b[0;34m\u001b[0m\u001b[0;34m\u001b[0m\u001b[0m\n\u001b[1;32m      9\u001b[0m \u001b[0mobj\u001b[0m\u001b[0;34m.\u001b[0m\u001b[0mencapfun\u001b[0m\u001b[0;34m(\u001b[0m\u001b[0;34m)\u001b[0m\u001b[0;34m\u001b[0m\u001b[0;34m\u001b[0m\u001b[0m\n",
            "\u001b[0;31mAttributeError\u001b[0m: 'encap' object has no attribute '_encap___a'"
          ]
        }
      ]
    },
    {
      "cell_type": "code",
      "source": [
        "x=200\n",
        "print(id(x))"
      ],
      "metadata": {
        "colab": {
          "base_uri": "https://localhost:8080/"
        },
        "id": "AWyP9GtyVtM0",
        "outputId": "9e891dbd-eacf-4f5f-faf2-45c3c89ff35c"
      },
      "execution_count": null,
      "outputs": [
        {
          "output_type": "stream",
          "name": "stdout",
          "text": [
            "9799456\n"
          ]
        }
      ]
    },
    {
      "cell_type": "markdown",
      "source": [
        "##DATA STRUCTURES:\n",
        "\n",
        "In order to structurize the data to keep it efficient in terms of memory usage extracting information is called data structures.\n",
        "\n",
        "***TYPES OF DS:***\n",
        "\n",
        "\n",
        "*  LINEAR\n",
        "          1.Static  ----> Array\n",
        "          2.Dynamic ----> List,Stack,Queue\n",
        "\n",
        "*  NON-LINEAR\n",
        "          1.Graph ----> Stack,Queue\n",
        "          2.Tree\n",
        "\n",
        "\n",
        "\n",
        "\n",
        "\n",
        "\n"
      ],
      "metadata": {
        "id": "ToYbDrP1C9C9"
      }
    },
    {
      "cell_type": "markdown",
      "source": [
        "##LINKEDLIST\n",
        "\n",
        "List of data or items being linked with one another is called linkedlist\n",
        "\n",
        "*Ex*:Spotify\n",
        "\n",
        "\n",
        "*  Linkedlist contains nodes/elements.\n",
        "*  Each node contains: Data and Next\n",
        "*  The address of the first node is stored in head and the address of the second node is stored at first nodes \"next\".\n",
        "*  Last node of linkedllist pointers to \"NULL\".\n",
        "\n"
      ],
      "metadata": {
        "id": "QGOARbdzFZ9O"
      }
    },
    {
      "cell_type": "code",
      "source": [
        "#SINGLE LINKED LIST\n",
        "#CREATION OR IMPLEMENTATION\n",
        "class Node:\n",
        "  def __init__(self,data):\n",
        "    self.data=data\n",
        "    self.next=None\n",
        "class SLL:\n",
        "  def __init__(self):\n",
        "    self.head=None\n",
        "  def display(self):\n",
        "    if self.head is None:\n",
        "      print(\"LL is empty.\")\n",
        "    else:\n",
        "      temp=self.head\n",
        "      while(temp):\n",
        "        print(temp.data,\"-->\",end=\" \")\n",
        "        temp=temp.next\n",
        "obj=SLL()\n",
        "n1=Node(100)\n",
        "obj.head=n1\n",
        "n2=Node(200)\n",
        "obj.head.next=n2\n",
        "n3=Node(300)\n",
        "n2.next=n3\n",
        "print(obj.display())\n"
      ],
      "metadata": {
        "colab": {
          "base_uri": "https://localhost:8080/"
        },
        "id": "Cvs7HfI93VG6",
        "outputId": "0c4fe8d6-9d1a-4088-c99a-b460ca8463a2"
      },
      "execution_count": null,
      "outputs": [
        {
          "output_type": "stream",
          "name": "stdout",
          "text": [
            "100 --> 200 --> 300 --> None\n"
          ]
        }
      ]
    },
    {
      "cell_type": "markdown",
      "source": [
        "##SINGLE LINKED LIST:\n",
        "\n",
        "1.**INSERTION:**\n",
        "\n",
        "       * inserting new node at the beginning\n",
        "       * inserting new node at the end \n",
        "       * inserting newnode at the given position"
      ],
      "metadata": {
        "id": "bxtZbxVGKGQ2"
      }
    },
    {
      "cell_type": "markdown",
      "source": [
        "----->**SLL INSERTION AT THE BEGINNING**\n",
        "\n",
        "* create new node which u want to insert\n",
        "* make the new node point to current point head node\n",
        "* make ur new node as head node"
      ],
      "metadata": {
        "id": "cSAzADm-Lj6e"
      }
    },
    {
      "cell_type": "code",
      "source": [
        "#SLL INSERTION AT BEGINNING\n",
        "class Node:\n",
        "  def __init__(self,data):\n",
        "    self.data=data\n",
        "    self.next=None\n",
        "class singlelinkedlist:\n",
        "  def __init__(self):\n",
        "    self.head=None\n",
        "  def insert_beginning(self,data):\n",
        "    nb=Node(data)\n",
        "    nb.next=self.head\n",
        "    self.head=nb\n",
        "  def display(self):\n",
        "    if self.head is None:\n",
        "      print(\"LL is empty.\")\n",
        "    else:\n",
        "      temp=self.head\n",
        "      while(temp):\n",
        "        print(temp.data,\"-->\",end=\" \")\n",
        "        temp=temp.next\n",
        "obj=singlelinkedlist()\n",
        "n=Node(102)\n",
        "obj.head=n\n",
        "n1=Node(202)\n",
        "n.next=n1\n",
        "n2=Node(302)\n",
        "n1.next=n2\n",
        "n3=Node(402)\n",
        "n2.next=n3\n",
        "n4=Node(502)\n",
        "n3.next=n4\n",
        "print(\"Before Inerting 100:\")\n",
        "obj.display()\n",
        "print(\" \")\n",
        "print(\"After Inserting 100:\")\n",
        "obj.insert_beginning(100)\n",
        "obj.display()\n"
      ],
      "metadata": {
        "colab": {
          "base_uri": "https://localhost:8080/"
        },
        "id": "bBxZLHl4MTIo",
        "outputId": "2af52338-ba91-46ca-b776-1027e51d55cb"
      },
      "execution_count": null,
      "outputs": [
        {
          "output_type": "stream",
          "name": "stdout",
          "text": [
            "Before Inerting 100:\n",
            "102 --> 202 --> 302 --> 402 --> 502 -->  \n",
            "After Inserting 100:\n",
            "100 --> 102 --> 202 --> 302 --> 402 --> 502 --> "
          ]
        }
      ]
    },
    {
      "cell_type": "markdown",
      "source": [
        "---->**SLL INSERTION AT THE END**                   \n",
        "\n"
      ],
      "metadata": {
        "id": "bET9zDY2Xh0Y"
      }
    },
    {
      "cell_type": "code",
      "source": [
        "#SLL INSERTION AT THE END\n",
        "class Node:\n",
        "  def __init__(self,data):\n",
        "    self.data=data\n",
        "    self.next=None\n",
        "class singlelinkedlist:\n",
        "  def __init__(self):\n",
        "    self.head=None\n",
        "  def insert_end(self,data):\n",
        "    ne=Node(data)\n",
        "    temp=self.head\n",
        "    while temp.next:\n",
        "      temp=temp.next\n",
        "    temp.next=ne\n",
        "  def display(self):\n",
        "    if self.head is None:\n",
        "      print(\"LL is empty.\")\n",
        "    else:\n",
        "      temp=self.head\n",
        "      while(temp):\n",
        "        print(temp.data,\"-->\",end=\" \")\n",
        "        temp=temp.next\n",
        "obj=singlelinkedlist()\n",
        "n=Node(102)\n",
        "obj.head=n\n",
        "n1=Node(202)\n",
        "n.next=n1\n",
        "n2=Node(302)\n",
        "n1.next=n2\n",
        "n3=Node(402)\n",
        "n2.next=n3\n",
        "n4=Node(502)\n",
        "n3.next=n4\n",
        "print(\"Before Inerting 100:\")\n",
        "obj.display()\n",
        "print(\" \")\n",
        "print(\"After Inserting 100:\")\n",
        "obj.insert_end(100)\n",
        "obj.display()\n",
        "\n"
      ],
      "metadata": {
        "colab": {
          "base_uri": "https://localhost:8080/"
        },
        "id": "YgMuDwn8YceZ",
        "outputId": "300f84b0-7353-4534-b41b-e0a0b04b4da1"
      },
      "execution_count": null,
      "outputs": [
        {
          "output_type": "stream",
          "name": "stdout",
          "text": [
            "Before Inerting 100:\n",
            "102 --> 202 --> 302 --> 402 --> 502 -->  \n",
            "After Inserting 100:\n",
            "102 --> 202 --> 302 --> 402 --> 502 --> 100 --> "
          ]
        }
      ]
    }
  ]
}