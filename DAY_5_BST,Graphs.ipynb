{
  "nbformat": 4,
  "nbformat_minor": 0,
  "metadata": {
    "colab": {
      "provenance": [],
      "authorship_tag": "ABX9TyOjirW3VUnijKUjRWTs9/Nx",
      "include_colab_link": true
    },
    "kernelspec": {
      "name": "python3",
      "display_name": "Python 3"
    },
    "language_info": {
      "name": "python"
    }
  },
  "cells": [
    {
      "cell_type": "markdown",
      "metadata": {
        "id": "view-in-github",
        "colab_type": "text"
      },
      "source": [
        "<a href=\"https://colab.research.google.com/github/20A31A0527/Training_2/blob/main/DAY_5_BST%2CGraphs.ipynb\" target=\"_parent\"><img src=\"https://colab.research.google.com/assets/colab-badge.svg\" alt=\"Open In Colab\"/></a>"
      ]
    },
    {
      "cell_type": "markdown",
      "source": [
        "####**DICTIONARY(FOREST OF 3 TREES)**"
      ],
      "metadata": {
        "id": "45GIMRo_xiKP"
      }
    },
    {
      "cell_type": "code",
      "source": [
        "#DICTIONARY(FOREST OF 3 TREES)\n",
        "Families={\n",
        "     'Charley':\n",
        "           {'Sam':{'Boxy','Rosy'},'Nila':{'Pepsi'}},\n",
        "      'Devi':\n",
        "           {'Tommy':{'Tony'},'Timmy':{'Hamster'},'Tammy':{'Hamster'}},\n",
        "       'Charlos':\n",
        "           {'Diego':'Cat','Ferret':'Fox'}\n",
        "}\n",
        "for Parent,Children in Families.items():\n",
        "  print(f\"{Parent} has {len(Children)}kid(s):\")\n",
        "  print(f\"{',and '.join([str(Child) for Child in [*Children]])}\")    #.join is used to concatenate strings"
      ],
      "metadata": {
        "colab": {
          "base_uri": "https://localhost:8080/"
        },
        "id": "18o5QfDG1HZf",
        "outputId": "2a82094e-3876-4d86-e577-31522ab7a26a"
      },
      "execution_count": null,
      "outputs": [
        {
          "output_type": "stream",
          "name": "stdout",
          "text": [
            "Charley has 2kid(s):\n",
            "Sam,and Nila\n",
            "Devi has 3kid(s):\n",
            "Tommy,and Timmy,and Tammy\n",
            "Charlos has 2kid(s):\n",
            "Diego,and Ferret\n"
          ]
        }
      ]
    },
    {
      "cell_type": "markdown",
      "source": [
        "--->**BINARY SEARCH TREE IMPLEMENTATION**"
      ],
      "metadata": {
        "id": "A-TpnqJW4VI_"
      }
    },
    {
      "cell_type": "markdown",
      "source": [
        "--->**BST DELETION**\n",
        "\n",
        "There are 3 cases:\n",
        "     \n",
        "     * deleting a node which has no children\n",
        "     * deleting a node which has one child\n",
        "     * deleting a node which has two children\n",
        "\n",
        "    * In the first case,you can directly delete the node\n",
        "    * In the second case,replace the node which needs to be deleted with its child node\n",
        "    * Select inorder_predecessor from left side or inoder_successor from right  and replace the nodes to be deleted with them\n",
        "\n",
        "\n",
        "    * Inorder_predeccessor,its in left side,biggest number among other nodes\n",
        "    * Inorder_successor,its at right side,smallest number among other nodes"
      ],
      "metadata": {
        "id": "jtKFNniyF9ec"
      }
    },
    {
      "cell_type": "code",
      "source": [
        "#BINARY SEARCH TREE IMPLEMENTATION\n",
        "class Node:\n",
        "  def __init__(self,key):\n",
        "    self.left=None\n",
        "    self.right=None\n",
        "    self.val=key\n",
        "def insert(root,key):\n",
        "   if root is None:\n",
        "      return Node(key)\n",
        "   else:\n",
        "     if root.val==key:\n",
        "       return root\n",
        "     elif root.val<key:\n",
        "       root.right=insert(root.right,key)\n",
        "     else:\n",
        "       root.left=insert(root.left,key)\n",
        "     return root\n",
        "#inorder traversal\n",
        "def inorder(root):\n",
        "  if root:\n",
        "    inorder(root.left)    \n",
        "    print(root.val,end=\" \")    \n",
        "    inorder(root.right)\n",
        "r=Node(50)\n",
        "r=insert(r,90)\n",
        "r=insert(r,20)\n",
        "r=insert(r,27)\n",
        "r=insert(r,86)\n",
        "r=insert(r,11)\n",
        "inorder(r)\n"
      ],
      "metadata": {
        "colab": {
          "base_uri": "https://localhost:8080/"
        },
        "id": "vgfvWH814coV",
        "outputId": "70ef06db-56e4-4596-a45e-5c1d02e2f21f"
      },
      "execution_count": 1,
      "outputs": [
        {
          "output_type": "stream",
          "name": "stdout",
          "text": [
            "11 20 27 50 86 90 "
          ]
        }
      ]
    },
    {
      "cell_type": "markdown",
      "source": [
        "#####**ALOGORITHM(STEPS) FOR BST-DELETION**\n",
        "---------------------------------------\n",
        "\n",
        "####STEP-1:\n",
        "------\n",
        "      * Create BST\n",
        "            * Do insertion\n",
        "\n",
        "####STEP-2:\n",
        "------\n",
        "     * Search node you want to delete is present in tree or not\n",
        "        * how?\n",
        "           * compare with root and keep checking left or right\n",
        "\n",
        "####STEP-3:\n",
        "------\n",
        "\n",
        "    * once you locate the node,\n",
        "         check the node comes under which case\n",
        "          1. Leaf node\n",
        "          2. Node with 1 child\n",
        "          3. Node with 2 children\n",
        "\n",
        "####STEP-4:\n",
        "-----\n",
        "     * If the case is 3\n",
        "         * Findout the Inorder_successdor or Inorder_Predeccesor\n",
        "\n",
        "\n",
        "####STEP-5:\n",
        "------\n",
        "    * To findout Inorder_successdor\n",
        "         * it will be at right\n",
        "            * so it will be searched for the smallest "
      ],
      "metadata": {
        "id": "Z5-rAKzNs4cv"
      }
    },
    {
      "cell_type": "code",
      "source": [
        "#BST DELETION\n",
        "class Node:\n",
        "  def __init__(self,key):\n",
        "    self.key=key\n",
        "    self.left=None\n",
        "    self.right=None\n",
        "def inorder(root):\n",
        "  if root:\n",
        "    inorder(root.left)    \n",
        "    print(root.key)    \n",
        "    inorder(root.right)\n",
        "def insert(node,key):\n",
        "   if node is None:\n",
        "      return Node(key)\n",
        "   if key<node.key:\n",
        "     node.left=insert(node.left,key)\n",
        "   else:\n",
        "     node.right=insert(node.right,key)\n",
        "   return node\n",
        "def minValueNode(node):\n",
        "  current=node\n",
        "  while(current.left is not None):\n",
        "    current=current.left\n",
        "  return current\n",
        "def deleteNode(root,key):\n",
        "  if root is None:\n",
        "    return root\n",
        "  if key<root.key:\n",
        "    root.left=deleteNode(root.left,key)\n",
        "  elif(key>root.key):\n",
        "    root.right=deleteNode(root.right,key)\n",
        "  else:\n",
        "    if root.left is None:\n",
        "      temp=root.right\n",
        "      root=None\n",
        "      return temp\n",
        "    elif root.right is None:\n",
        "      temp=root.left\n",
        "      root=None\n",
        "      return temp\n",
        "    temp=minValueNode(root.right)\n",
        "    root.key=temp.key\n",
        "    root.right=deleteNode(root.right,temp.key)\n",
        "  return root\n",
        "root=None\n",
        "root=insert(root,50)\n",
        "root=insert(root,30)\n",
        "root=insert(root,20)\n",
        "root=insert(root,40)\n",
        "root=insert(root,70)\n",
        "root=insert(root,60)\n",
        "root=insert(root,80)\n",
        "print(\"Inorder traversal of the tree:\")\n",
        "inorder(root)\n",
        "print(\"\\nDelete 20\")\n",
        "root=deleteNode(root,20)\n",
        "print(\"Inorder traversal of the modified tree:\")\n",
        "inorder(root)\n",
        "print(\"\\nDelete 30\")\n",
        "root=deleteNode(root,30)\n",
        "print(\"Inorder traversal of the modified tree:\")\n",
        "inorder(root)\n",
        "print(\"\\nDelete 50\")\n",
        "root=deleteNode(root,50)\n",
        "print(\"Inorder traversal of the modified tree:\")\n",
        "inorder(root)"
      ],
      "metadata": {
        "id": "JEi0hphEF_27",
        "colab": {
          "base_uri": "https://localhost:8080/"
        },
        "outputId": "b139180e-1db2-4faa-dfcf-6827b4a0cc2d"
      },
      "execution_count": null,
      "outputs": [
        {
          "output_type": "stream",
          "name": "stdout",
          "text": [
            "Inorder traversal of the tree:\n",
            "20\n",
            "30\n",
            "40\n",
            "50\n",
            "60\n",
            "70\n",
            "80\n",
            "\n",
            "Delete 20\n",
            "Inorder traversal of the modified tree:\n",
            "30\n",
            "40\n",
            "50\n",
            "60\n",
            "70\n",
            "80\n",
            "\n",
            "Delete 30\n",
            "Inorder traversal of the modified tree:\n",
            "40\n",
            "50\n",
            "60\n",
            "70\n",
            "80\n",
            "\n",
            "Delete 50\n",
            "Inorder traversal of the modified tree:\n",
            "40\n",
            "60\n",
            "70\n",
            "80\n"
          ]
        }
      ]
    },
    {
      "cell_type": "markdown",
      "source": [
        "###**GRAPHS** \n",
        " \n",
        "   Graph has:\n",
        "   \n",
        "      * vertex/vertices\n",
        "      * edges"
      ],
      "metadata": {
        "id": "RxNgkLipyET6"
      }
    },
    {
      "cell_type": "markdown",
      "source": [
        "#####**TYPES OF GRAPHS**\n",
        "\n",
        "     1. Undirected graph\n",
        "     2. Directed graph\n",
        "     3. Cyclic graph\n",
        "     4. Unweighted graph\n",
        "     5. Weighted graph\n",
        "\n"
      ],
      "metadata": {
        "id": "uqtTjtFuyvwR"
      }
    },
    {
      "cell_type": "markdown",
      "source": [
        "--->**IMPLEMENTATION OF GRAPHS USING DICTIONARY - COLLECTION MODULE**"
      ],
      "metadata": {
        "id": "mc5iyFxxzOFp"
      }
    },
    {
      "cell_type": "code",
      "source": [
        "#IMPLEMENTATION OF GRAPHS USING DICTIONARY - COLLECTION MODULE\n",
        "from collections import defaultdict\n",
        "graph=defaultdict(list)\n",
        "def addEdge(graph,u,v):\n",
        "  graph[u].append(v)\n",
        "def generate_edges(graph):\n",
        "  edges=[]\n",
        "  for node in graph:\n",
        "    for neighbour in graph[node]:\n",
        "      edges.append((node,neighbour))\n",
        "  return edges\n",
        "addEdge(graph,'a','c')\n",
        "addEdge(graph,'b','c')\n",
        "addEdge(graph,'b','e')\n",
        "addEdge(graph,'c','d')\n",
        "addEdge(graph,'c','e')\n",
        "addEdge(graph,'c','a')\n",
        "addEdge(graph,'c','b')\n",
        "addEdge(graph,'e','b')\n",
        "addEdge(graph,'d','c')\n",
        "addEdge(graph,'e','c')\n",
        "print(generate_edges(graph))\n",
        "\n"
      ],
      "metadata": {
        "colab": {
          "base_uri": "https://localhost:8080/"
        },
        "id": "9yOMu6x-3alE",
        "outputId": "47c600f2-f368-4a14-9cdd-410f37fc7d47"
      },
      "execution_count": null,
      "outputs": [
        {
          "output_type": "stream",
          "name": "stdout",
          "text": [
            "[('a', 'c'), ('b', 'c'), ('b', 'e'), ('c', 'd'), ('c', 'e'), ('c', 'a'), ('c', 'b'), ('e', 'b'), ('e', 'c'), ('d', 'c')]\n"
          ]
        }
      ]
    },
    {
      "cell_type": "markdown",
      "source": [
        "#####**REPRESENTATION OF GRAPHS**\n",
        "   \n",
        "   \n",
        "      1. List of edges\n",
        "      2. Adjacency list\n",
        "      3. Adjacency matrix"
      ],
      "metadata": {
        "id": "2IzoIxiM591r"
      }
    },
    {
      "cell_type": "markdown",
      "source": [
        "---->**GRAPH TRAVERSAL**\n",
        "\n",
        "     1. BFS\n",
        "      -- In BFS,we can start from any node and can visit all the adjacent nodes,then select any one adjacent node,repeat the procedure.\n",
        "\n",
        "    2. DFS\n",
        "       -- Start traversing from any node,select  any one adjacent vertex and explore that vetex.\n",
        "       -- Exploring a vertex means again select any adjacent node for that and repeat the process."
      ],
      "metadata": {
        "id": "WgXS0728-4Vl"
      }
    }
  ]
}